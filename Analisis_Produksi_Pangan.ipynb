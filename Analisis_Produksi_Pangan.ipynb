{
  "nbformat": 4,
  "nbformat_minor": 0,
  "metadata": {
    "colab": {
      "provenance": [],
      "authorship_tag": "ABX9TyMOxcd66ddV6UWJQfyXg9gO",
      "include_colab_link": true
    },
    "kernelspec": {
      "name": "python3",
      "display_name": "Python 3"
    },
    "language_info": {
      "name": "python"
    }
  },
  "cells": [
    {
      "cell_type": "markdown",
      "metadata": {
        "id": "view-in-github",
        "colab_type": "text"
      },
      "source": [
        "<a href=\"https://colab.research.google.com/github/Brizah/Data-Mining/blob/main/Analisis_Produksi_Pangan.ipynb\" target=\"_parent\"><img src=\"https://colab.research.google.com/assets/colab-badge.svg\" alt=\"Open In Colab\"/></a>"
      ]
    },
    {
      "cell_type": "markdown",
      "source": [
        "#**Analisis Produksi Pangan Dunia dalam 20 Tahun Terakhir**"
      ],
      "metadata": {
        "id": "i8QXzqCacZGm"
      }
    },
    {
      "cell_type": "markdown",
      "source": [
        "# Business Understanding\n"
      ],
      "metadata": {
        "id": "0kwPaZCVccVO"
      }
    },
    {
      "cell_type": "markdown",
      "source": [
        "##**Business Objective**\n",
        "\n",
        "Tujuan bisnis dari dataset produksi pangan dunia ini untuk menganalisis faktor-faktor yang mempengaruhi produktivitas beberapa komoditas pangan utama di berbagai negara, serta mengevaluasi efektivitas program ketahanan pangan selama ini, dan membuat model prediksi produksi di masa depan.\n",
        "\n",
        "##**Assess Situation**\n",
        "\n",
        "Situasi bisnis yang mendasari analisis ini adalah masih rendahnya produktivitas dan surplus pangan di negara berkembang, ketimpangan ketahanan pangan global, serta ancaman perubahan iklim dan keterbatasan lahan ke depan.\n",
        "\n",
        "##**Data Mining Goals**\n",
        "\n",
        "Tujuan dari data mining pada dataset produksi pangan dunia ini adalah untuk membuat model prediksi surplus dan defisit berbagai komoditas pangan di masa depan berdasarkan faktor-faktor yang mempengaruhi produktivitas, menganalisis faktor-faktor yang berdampak pada produktivitas dan output produksi beberapa komoditas pangan utama, serta meningkatkan pemahaman mengenai profil dan klusterisasi pola produksi pangan antar negara maupun kawasan di dunia.\n",
        "\n",
        "##**Project Plan**\n",
        "\n",
        "Rencana proyek untuk menganalisis dataset produksi pangan dunia dimulai dengan pengumpulan data. Selanjutnya, karakteristik data akan dijelaskan dan pola-pola menarik dalam tren produksi tiap komoditas dan negara akan diidentifikasi. Data kemudian akan dieksplorasi lebih lanjut untuk mengidentifikasi korelasi dan hubungan antar variabel yang mempengaruhi produktivitas. Selain itu, kualitas data juga akan dinilai dan masalah data akan diidentifikasi agar dapat ditangani pada tahap berikutnya. Tahapan-tahapan ini merupakan langkah penting dalam memastikan keberhasilan analisis dataset produksi pangan dunia.\n",
        "\n"
      ],
      "metadata": {
        "id": "3KsaM0y3fe_Y"
      }
    }
  ]
}